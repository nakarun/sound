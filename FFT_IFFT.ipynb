{
 "cells": [
  {
   "cell_type": "markdown",
   "metadata": {},
   "source": [
    "# 1/2オーバーラップでFFTしてIFFTして元に戻す処理"
   ]
  },
  {
   "cell_type": "markdown",
   "metadata": {},
   "source": [
    "https://qiita.com/wrist/items/5759f894303e4364ebfd"
   ]
  },
  {
   "cell_type": "code",
   "execution_count": 2,
   "metadata": {},
   "outputs": [],
   "source": [
    "import sys\n",
    "\n",
    "import numpy as np\n",
    "import scipy.fftpack as fft\n",
    "import matplotlib.pyplot as plt\n",
    "\n",
    "import soundfile as sf"
   ]
  },
  {
   "cell_type": "markdown",
   "metadata": {},
   "source": [
    "OSError: sndfile library not found<br>\n",
    "http://1000neta.blogspot.com/2018/01/dockerubuntusndfile.html<br>\n",
    "apt-get install libsndfile1<br>"
   ]
  },
  {
   "cell_type": "code",
   "execution_count": 4,
   "metadata": {},
   "outputs": [],
   "source": [
    "plt.close(\"all\")\n",
    "\n",
    "# wavファイル読み込み\n",
    "filename = 'byosyun_no_kou_tadas_guitar1.aif'\n",
    "wav, fs = sf.read(filename)"
   ]
  },
  {
   "cell_type": "code",
   "execution_count": 5,
   "metadata": {},
   "outputs": [],
   "source": [
    "# ステレオ2chの場合、LchとRchに分割\n",
    "wav_l = wav[:, 0]\n",
    "wav_r = wav[:, 1]"
   ]
  },
  {
   "cell_type": "code",
   "execution_count": 6,
   "metadata": {},
   "outputs": [],
   "source": [
    "# 入力をモノラル化\n",
    "xs = (0.5 * wav_l) + (0.5 * wav_r)"
   ]
  },
  {
   "cell_type": "code",
   "execution_count": 8,
   "metadata": {},
   "outputs": [],
   "source": [
    "n_len = len(xs)\n",
    "n_fft = 128\n",
    "n_overlap = 2\n",
    "n_shift = n_fft / n_overlap"
   ]
  },
  {
   "cell_type": "code",
   "execution_count": 9,
   "metadata": {},
   "outputs": [],
   "source": [
    "# 中間バッファ\n",
    "zs = np.zeros(n_len)\n",
    "Zs = np.zeros(n_fft)"
   ]
  },
  {
   "cell_type": "code",
   "execution_count": 10,
   "metadata": {},
   "outputs": [],
   "source": [
    "# 出力バッファ\n",
    "ys = np.zeros(n_len)"
   ]
  },
  {
   "cell_type": "code",
   "execution_count": 11,
   "metadata": {},
   "outputs": [],
   "source": [
    "# 窓関数\n",
    "window = np.hanning(n_fft)"
   ]
  },
  {
   "cell_type": "code",
   "execution_count": 28,
   "metadata": {
    "collapsed": true
   },
   "outputs": [
    {
     "ename": "ValueError",
     "evalue": "operands could not be broadcast together with shapes (101,) (128,) ",
     "output_type": "error",
     "traceback": [
      "\u001b[0;31m---------------------------------------------------------------------------\u001b[0m",
      "\u001b[0;31mValueError\u001b[0m                                Traceback (most recent call last)",
      "\u001b[0;32m<ipython-input-28-26d337e00099>\u001b[0m in \u001b[0;36m<module>\u001b[0;34m()\u001b[0m\n\u001b[1;32m      3\u001b[0m     \u001b[0;31m#print(start)\u001b[0m\u001b[0;34m\u001b[0m\u001b[0;34m\u001b[0m\u001b[0m\n\u001b[1;32m      4\u001b[0m     \u001b[0mxs_cut\u001b[0m \u001b[0;34m=\u001b[0m \u001b[0mxs\u001b[0m\u001b[0;34m[\u001b[0m\u001b[0mstart\u001b[0m\u001b[0;34m:\u001b[0m \u001b[0mstart\u001b[0m \u001b[0;34m+\u001b[0m \u001b[0mn_fft\u001b[0m\u001b[0;34m]\u001b[0m\u001b[0;34m\u001b[0m\u001b[0m\n\u001b[0;32m----> 5\u001b[0;31m     \u001b[0mxs_win\u001b[0m \u001b[0;34m=\u001b[0m \u001b[0mxs_cut\u001b[0m \u001b[0;34m*\u001b[0m \u001b[0mwindow\u001b[0m\u001b[0;34m\u001b[0m\u001b[0m\n\u001b[0m\u001b[1;32m      6\u001b[0m     \u001b[0mXs\u001b[0m \u001b[0;34m=\u001b[0m \u001b[0mfft\u001b[0m\u001b[0;34m.\u001b[0m\u001b[0mfft\u001b[0m\u001b[0;34m(\u001b[0m\u001b[0mxs_win\u001b[0m\u001b[0;34m,\u001b[0m \u001b[0mn_fft\u001b[0m\u001b[0;34m)\u001b[0m\u001b[0;34m\u001b[0m\u001b[0m\n\u001b[1;32m      7\u001b[0m \u001b[0;34m\u001b[0m\u001b[0m\n",
      "\u001b[0;31mValueError\u001b[0m: operands could not be broadcast together with shapes (101,) (128,) "
     ]
    }
   ],
   "source": [
    "# FFT & IFFT\n",
    "for start in range(0, int(n_len - n_shift), int(n_shift)):\n",
    "    #print(start)\n",
    "    xs_cut = xs[start: start + n_fft]\n",
    "    xs_win = xs_cut * window\n",
    "    Xs = fft.fft(xs_win, n_fft)\n",
    "\n",
    "    # some signal processing\n",
    "    Zs = Xs\n",
    "    zs = fft.ifft(Zs, n_fft)\n",
    "\n",
    "    # write output buffer\n",
    "    ys[start: start + n_fft] += np.real(zs)"
   ]
  },
  {
   "cell_type": "markdown",
   "metadata": {},
   "source": [
    "```---------------------------------------------------------------------------\n",
    "ValueError                                Traceback (most recent call last)\n",
    "<ipython-input-19-de146af656cf> in <module>()\n",
    "      3     print(start)\n",
    "      4     xs_cut = xs[start: start + n_fft]\n",
    "----> 5     xs_win = xs_cut * window\n",
    "      6     Xs = fft.fft(xs_win, n_fft)\n",
    "      7 \n",
    "\n",
    "ValueError: operands could not be broadcast together with shapes (101,) (128,) \n",
    "```"
   ]
  },
  {
   "cell_type": "code",
   "execution_count": 22,
   "metadata": {},
   "outputs": [
    {
     "data": {
      "text/plain": [
       "101"
      ]
     },
     "execution_count": 22,
     "metadata": {},
     "output_type": "execute_result"
    }
   ],
   "source": [
    "len(xs_cut)"
   ]
  },
  {
   "cell_type": "code",
   "execution_count": 23,
   "metadata": {},
   "outputs": [
    {
     "data": {
      "text/plain": [
       "128"
      ]
     },
     "execution_count": 23,
     "metadata": {},
     "output_type": "execute_result"
    }
   ],
   "source": [
    "len(window)"
   ]
  },
  {
   "cell_type": "code",
   "execution_count": 29,
   "metadata": {},
   "outputs": [],
   "source": [
    "# FFT & IFFT\n",
    "for start in range(0, int(n_len - n_shift), int(n_shift)):\n",
    "    #print(start)\n",
    "    xs_cut = xs[start: start + n_fft]\n",
    "    if len(xs_win) == len(xs_cut):\n",
    "        xs_win = xs_cut * window\n",
    "    else:\n",
    "        break\n",
    "    Xs = fft.fft(xs_win, n_fft)\n",
    "\n",
    "    # some signal processing\n",
    "    Zs = Xs\n",
    "    zs = fft.ifft(Zs, n_fft)\n",
    "\n",
    "    # write output buffer\n",
    "    ys[start: start + n_fft] += np.real(zs)"
   ]
  },
  {
   "cell_type": "code",
   "execution_count": null,
   "metadata": {},
   "outputs": [],
   "source": []
  },
  {
   "cell_type": "code",
   "execution_count": 32,
   "metadata": {},
   "outputs": [
    {
     "data": {
      "image/png": "[encoded data removed]",
      "text/plain": [
       "<Figure size 576x720 with 2 Axes>"
      ]
     },
     "metadata": {},
     "output_type": "display_data"
    }
   ],
   "source": [
    "# 冒頭から10秒分プロット\n",
    "fig = plt.figure(1, figsize=(8, 10))\n",
    "ax = fig.add_subplot(211)\n",
    "ax.plot(xs[:fs*10])\n",
    "ax.set_title(\"input signal\")\n",
    "ax.set_xlabel(\"time [pt]\")\n",
    "ax.set_ylabel(\"amplitude\")\n",
    "\n",
    "ax = fig.add_subplot(212)\n",
    "ax.plot(ys[:fs*10])\n",
    "ax.set_title(\"output signal\")\n",
    "ax.set_xlabel(\"time [pt]\")\n",
    "ax.set_ylabel(\"amplitude\")\n",
    "\n",
    "plt.show()"
   ]
  },
  {
   "cell_type": "code",
   "execution_count": null,
   "metadata": {},
   "outputs": [],
   "source": []
  }
 ],
 "metadata": {
  "kernelspec": {
   "display_name": "Python 3",
   "language": "python",
   "name": "python3"
  },
  "language_info": {
   "codemirror_mode": {
    "name": "ipython",
    "version": 3
   },
   "file_extension": ".py",
   "mimetype": "text/x-python",
   "name": "python",
   "nbconvert_exporter": "python",
   "pygments_lexer": "ipython3",
   "version": "3.5.2"
  }
 },
 "nbformat": 4,
 "nbformat_minor": 2
}
